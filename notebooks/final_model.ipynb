{
  "cells": [
    {
      "cell_type": "code",
      "execution_count": null,
      "metadata": {
        "id": "tB89xFmlZF3J"
      },
      "outputs": [],
      "source": [
        "# !pip install catboost\n",
        "# !pip install shap"
      ]
    },
    {
      "cell_type": "code",
      "execution_count": null,
      "metadata": {
        "id": "VziAai-nZMbH"
      },
      "outputs": [],
      "source": [
        "import warnings\n",
        "warnings.filterwarnings(\"ignore\")\n",
        "\n",
        "import pandas as pd\n",
        "import numpy as np\n",
        "\n",
        "from sklearn import preprocessing\n",
        "from sklearn import metrics\n",
        "\n",
        "from catboost import CatBoostRegressor, CatBoostClassifier\n",
        "\n",
        "import shap\n",
        "\n",
        "pd.set_option('display.max_columns', 60)"
      ]
    },
    {
      "cell_type": "code",
      "execution_count": null,
      "metadata": {
        "id": "nI3EvefsZ_FH"
      },
      "outputs": [],
      "source": [
        "def get_dif(largest_iso, least_iso):\n",
        "  for col in ['bus_stop', 'house', 'kiosk',\n",
        "        'retail', 'station', 'subway_entrance', 'tram_stop', 'bar', 'cafe',\n",
        "        'fast_food', 'food_court', 'pub', 'restaurant', 'college',\n",
        "        'driving_school', 'language_school', 'school', 'kindergarten',\n",
        "        'university', 'car_wash', 'fuel', 'atm', 'bank', 'clinic', 'dentist',\n",
        "        'doctors', 'hospital', 'pharmacy', 'veterinary', 'theatre', 'cinema',\n",
        "        'hostel', 'hotel', 'office', 'shop']:\n",
        "    largest_iso[col] = largest_iso[col]-least_iso[col]\n",
        "\n",
        "\n",
        "def add_weights(columns, weight):\n",
        "  for col_name in scaled_data.columns:\n",
        "    if columns in col_name:\n",
        "      scaled_data[col_name] = scaled_data[col_name]*weight\n",
        "\n",
        "\n",
        "def make_classes_for_num_checks(q):\n",
        "  df_target['interval'] = pd.qcut(df_target[\"Чеки шт/мес\"], q=q)\n",
        "  df_target['makr_class'] = pd.qcut(df_target[\"Чеки шт/мес\"], q=q, labels=False)\n",
        "\n",
        "  for i in range(q):\n",
        "    df_target.loc[df_target['makr_class'] == i, 'mean'] = df_target[df_target['makr_class'] == i][\"Чеки шт/мес\"].mean()"
      ]
    },
    {
      "cell_type": "code",
      "execution_count": null,
      "metadata": {
        "id": "LyQ01jB4aBNs"
      },
      "outputs": [],
      "source": [
        "df_target = pd.read_csv('../../data/vkusvill_target.csv')\n",
        "data = pd.read_csv('../../data/vkusvill_data_without_target.csv')\n",
        "iso_30 = pd.read_csv('../../data/vkusvill_isochrone_30.csv')\n",
        "iso_25 = pd.read_csv('../../data/vkusvill_isochrone_25.csv')\n",
        "iso_20 = pd.read_csv('../../data/vkusvill_isochrone_20.csv')\n",
        "iso_15 = pd.read_csv('../../data/vkusvill_isochrone_15.csv')\n",
        "iso_10 = pd.read_csv('../../data/vkusvill_isochrone_10.csv')\n",
        "dist_df = pd.read_csv('../../data/vkusvill_dist.csv')\n",
        "\n",
        "get_dif(iso_30, iso_25)\n",
        "get_dif(iso_25, iso_20)\n",
        "get_dif(iso_20, iso_15)\n",
        "get_dif(iso_15, iso_10)\n",
        "\n",
        "# revenue = df_target['Выручка р/мес'].values\n",
        "# avg_check = df_target[\"Выручка р/мес\"] / df_target[\"Чеки шт/мес\"]\n",
        "# num_checks = df_target[\"Чеки шт/мес\"].values"
      ]
    },
    {
      "cell_type": "code",
      "execution_count": null,
      "metadata": {
        "id": "UeYFC1UeaDif"
      },
      "outputs": [],
      "source": [
        "work_schedule = [\n",
        "    ['с 9-00 до 22-00', 9, 22, 9, 22, 0], \n",
        "    ['с 8-00 до 22-00', 8, 22, 8, 22, 0],\n",
        "    ['пн-чт с 7-00 - 23-45, пт-сб с 8-00 - 23-00, вс с 7-00 - 23-45', 7, 23, 7, 23, 1],\n",
        "    ['Откл. с 9:00 до 22:00', 9, 22, 9, 22, 0], \n",
        "    ['с 7-00 до 22-00', 7, 22, 7, 22, 0],\n",
        "    ['будни с 8-00 до 22-00; вых. с 9-00 до 22-00', 8, 22, 9, 22, 1], \n",
        "    ['с 10-00 до 22-00', 10, 22, 10, 22, 0],\n",
        "    ['будни с 9-00 до 23-00, выходные с 9-00 до 22-00', 9, 23, 9, 22, 1],\n",
        "    ['с 9-00 до 21-00', 9, 21, 9, 21, 0], \n",
        "    ['Будни с 8 до 23, вых с 8 до 22', 8, 23, 8, 22, 1],\n",
        "    ['с 7:00 до 23:45', 7, 23, 7, 23, 0], \n",
        "    ['Откл. с 11:00 до 21:00', 11, 21, 11, 21, 0],\n",
        "    ['Откл. с 8:00 до 22:00', 8, 22, 8, 22, 0], \n",
        "    ['с 8-00 до 23-45', 8, 23, 8, 23, 0], \n",
        "    ['с 8-00 до 23-00', 8, 23, 8, 23, 0],\n",
        "    ['Будни с8:00 до 23:00 вых с 8:00 до 22:00', 8, 23, 8, 22, 1],\n",
        "    ['будни с 8-00 до 23-00, вых. 9-00 до 23-00', 8, 23, 9, 23, 1],\n",
        "    ['пн-пт с 8-00 до 23-00, сб-вс с 9-00 до 22-00', 8, 23, 9, 22, 1],\n",
        "    ['вс-чт. с 10:00 до 23:00, пт-сб. с 10:00 по 24:00', 10, 23, 10, 24, 1],\n",
        "    ['пн-чт с 7-00 - 23-45, пт-сб с 7-00 - 23-00, вс с 7-00 - 23-45', 7, 23, 7, 23, 1],\n",
        "    ['с 8-30 до 23-00', 8, 23, 8, 23, 0], \n",
        "    ['с 7-00 до 23-45', 7, 23, 7, 23, 0],\n",
        "    ['пн-чт с 7-00 - 23-45, пт-сб с 7-00 - 22-00, вс с 8-00 - 23-45', 7, 23, 8, 23, 1],\n",
        "    ['с пн по чт с 7 до 23:45, пт с 7 до 23:00, сб с 8 до 22:00, вс 8 до 23:45', 7, 23, 8, 23, 1],\n",
        "    ['бд 7-00 до23-00 вх 8-00 до 22-00', 7, 23, 8, 22, 1], \n",
        "    ['с 9:00 до 23:00', 9, 23, 9, 23, 0],\n",
        "    ['с 7-00 до 23-00', 7, 23, 7, 23, 0]\n",
        "]\n",
        "\n",
        "work_schedule = pd.DataFrame(\n",
        "    work_schedule, \n",
        "    columns=[\"График\", \"Будни начало\", \"Будни конец\", \"Выходные начало\", \"Выходные конец\", \"Разные графики\"]\n",
        "    )\n",
        "\n",
        "data = pd.merge(data, work_schedule, on=\"График\", how=\"left\")\n",
        "data['Рабочие часы в будни'] = data['Будни конец'] - data['Будни начало']\n",
        "data['Рабочие часы в выходные'] = data['Выходные конец'] - data['Выходные начало']\n",
        "data['Ночной магазин'].replace({'Нет': 0, 'Да': 1}, inplace=True)"
      ]
    },
    {
      "cell_type": "code",
      "execution_count": null,
      "metadata": {
        "id": "2KmA4Nv1aUpk"
      },
      "outputs": [],
      "source": [
        "def add_iso(new_features, iso):\n",
        "  new_features_aggregated = pd.DataFrame(columns=['medicine'+iso, \n",
        "                                                   'stations'+iso, 'housing'+iso,\n",
        "                                                   'shops'+iso, 'atms+banks'+iso,\n",
        "                                                   'office'+iso,\n",
        "                                                  'food'+iso,'for_motorists'+iso,\n",
        "                                                  ])\n",
        "\n",
        "  new_features_aggregated['medicine'+iso] = new_features['clinic']+new_features['dentist']+\\\n",
        "                                        new_features['doctors']+new_features['hospital']+\\\n",
        "                                        new_features['pharmacy']\n",
        "\n",
        "  new_features_aggregated['food'+iso] = new_features['food_court']+new_features['pub']+\\\n",
        "                                    new_features['restaurant']+new_features['cafe']+\\\n",
        "                                    new_features['bar']+new_features['fast_food']\n",
        "\n",
        "  new_features_aggregated['stations'+iso] = new_features['bus_stop']+new_features['station']+\\\n",
        "                                        new_features['subway_entrance']+new_features['tram_stop']     \n",
        "\n",
        "  new_features_aggregated['housing'+iso] = new_features['hotel']+new_features['hostel']\n",
        "\n",
        "  new_features_aggregated['for_motorists'+iso] = new_features['car_wash']+new_features['fuel']\n",
        "\n",
        "  new_features_aggregated['shops'+iso] = new_features['kiosk']+new_features['retail']+new_features['shop']\n",
        "\n",
        "  new_features_aggregated['atms+banks'+iso] = new_features['atm']+new_features['bank']\n",
        "\n",
        "  new_features_aggregated['office'+iso] = new_features['office']\n",
        "\n",
        "  return new_features_aggregated"
      ]
    },
    {
      "cell_type": "code",
      "execution_count": null,
      "metadata": {
        "id": "4sh640m7aaqM"
      },
      "outputs": [],
      "source": [
        "data = pd.concat([data, add_iso(iso_10, '10')], axis=1) \n",
        "data = pd.concat([data, add_iso(iso_15, '15')], axis=1) \n",
        "data = pd.concat([data, add_iso(iso_20, '20')], axis=1) \n",
        "data = pd.concat([data, add_iso(iso_25, '25')], axis=1)\n",
        "data = pd.concat([data, add_iso(iso_30, '30')], axis=1)  \n",
        "\n",
        "data = pd.concat([data, dist_df], axis=1) "
      ]
    },
    {
      "cell_type": "code",
      "execution_count": null,
      "metadata": {
        "id": "RzAWxzdoa-HN"
      },
      "outputs": [],
      "source": [
        "data_cat = data[['Регион', 'Город']]"
      ]
    },
    {
      "cell_type": "code",
      "execution_count": null,
      "metadata": {
        "id": "U7XqWgnLacwj"
      },
      "outputs": [],
      "source": [
        "data = data.drop(columns = ['Дата открытия', 'Наименование', 'Номерточки', 'Регион', 'Город', 'Адрес', 'Широта', 'Долгота', 'График'], axis = 1)"
      ]
    },
    {
      "cell_type": "code",
      "execution_count": null,
      "metadata": {
        "id": "awZGrFyDak5B"
      },
      "outputs": [],
      "source": [
        "scaler = preprocessing.MinMaxScaler()\n",
        "d = scaler.fit_transform(data)\n",
        "\n",
        "scaled_data = pd.DataFrame(d, columns=data.columns)"
      ]
    },
    {
      "cell_type": "code",
      "execution_count": null,
      "metadata": {
        "id": "aoG_ev32bG4B"
      },
      "outputs": [],
      "source": [
        "add_weights('15', 0.9)\n",
        "add_weights('20', 0.8)\n",
        "add_weights('25', 0.7)\n",
        "add_weights('30', 0.6)"
      ]
    },
    {
      "cell_type": "code",
      "execution_count": null,
      "metadata": {
        "id": "S14RC9-ybWw3"
      },
      "outputs": [],
      "source": [
        "num_in_train = 240\n",
        "solo = []\n",
        "mul = []\n",
        "with_classes = []"
      ]
    },
    {
      "cell_type": "code",
      "execution_count": null,
      "metadata": {
        "colab": {
          "background_save": true,
          "base_uri": "https://localhost:8080/"
        },
        "id": "onXnuf8AbyMk",
        "outputId": "34de7090-d304-462a-a097-15ec0182a6a4"
      },
      "outputs": [
        {
          "name": "stdout",
          "output_type": "stream",
          "text": [
            "CatBoostRegressor revenue MAPE: 0.164\n",
            "CatBoostRegressor avg_check MAPE: 0.130\n",
            "CatBoostRegressor num_checks MAPE: 0.180\n",
            "0.16437155980703927 0.1657879588871661 0.18736351280374228\n",
            "-----------\n",
            "CatBoostRegressor revenue MAPE: 0.172\n",
            "CatBoostRegressor avg_check MAPE: 0.118\n",
            "CatBoostRegressor num_checks MAPE: 0.159\n",
            "0.1715848585037211 0.17450235494762048 0.21165709355590875\n",
            "-----------\n",
            "CatBoostRegressor revenue MAPE: 0.144\n",
            "CatBoostRegressor avg_check MAPE: 0.096\n",
            "CatBoostRegressor num_checks MAPE: 0.150\n",
            "0.14379495560351008 0.14831726064724943 0.16294379179405868\n",
            "-----------\n",
            "CatBoostRegressor revenue MAPE: 0.192\n",
            "CatBoostRegressor avg_check MAPE: 0.100\n",
            "CatBoostRegressor num_checks MAPE: 0.200\n",
            "0.19201758701160546 0.19137501627059106 0.18187891390896738\n",
            "-----------\n",
            "CatBoostRegressor revenue MAPE: 0.173\n",
            "CatBoostRegressor avg_check MAPE: 0.110\n",
            "CatBoostRegressor num_checks MAPE: 0.201\n",
            "0.1728528137341998 0.17608183351430381 0.21925817378876056\n",
            "-----------\n",
            "CatBoostRegressor revenue MAPE: 0.200\n",
            "CatBoostRegressor avg_check MAPE: 0.138\n",
            "CatBoostRegressor num_checks MAPE: 0.210\n",
            "0.20006906228239182 0.2042293272750959 0.2198022063235089\n",
            "-----------\n",
            "CatBoostRegressor revenue MAPE: 0.152\n",
            "CatBoostRegressor avg_check MAPE: 0.104\n",
            "CatBoostRegressor num_checks MAPE: 0.150\n",
            "0.15161763791978314 0.15110022223142347 0.20528221710090017\n",
            "-----------\n",
            "CatBoostRegressor revenue MAPE: 0.161\n",
            "CatBoostRegressor avg_check MAPE: 0.110\n",
            "CatBoostRegressor num_checks MAPE: 0.202\n",
            "0.1614768334361127 0.1669253252696224 0.18057867377215212\n",
            "-----------\n",
            "CatBoostRegressor revenue MAPE: 0.183\n",
            "CatBoostRegressor avg_check MAPE: 0.126\n",
            "CatBoostRegressor num_checks MAPE: 0.203\n",
            "0.1829104890803187 0.1868325768160515 0.22957696845696252\n",
            "-----------\n",
            "CatBoostRegressor revenue MAPE: 0.154\n",
            "CatBoostRegressor avg_check MAPE: 0.103\n",
            "CatBoostRegressor num_checks MAPE: 0.170\n",
            "0.15447456358779668 0.15570923256298502 0.18522240993956662\n",
            "-----------\n",
            "CatBoostRegressor revenue MAPE: 0.199\n",
            "CatBoostRegressor avg_check MAPE: 0.105\n",
            "CatBoostRegressor num_checks MAPE: 0.160\n",
            "0.1991313408655281 0.19966977430660474 0.22017090612322604\n",
            "-----------\n",
            "CatBoostRegressor revenue MAPE: 0.168\n",
            "CatBoostRegressor avg_check MAPE: 0.079\n",
            "CatBoostRegressor num_checks MAPE: 0.184\n",
            "0.16758409973039973 0.17495449096245247 0.18904158939849722\n",
            "-----------\n",
            "CatBoostRegressor revenue MAPE: 0.219\n",
            "CatBoostRegressor avg_check MAPE: 0.135\n",
            "CatBoostRegressor num_checks MAPE: 0.208\n",
            "0.21922133018413997 0.2111067856319765 0.23552584971912682\n",
            "-----------\n",
            "CatBoostRegressor revenue MAPE: 0.184\n",
            "CatBoostRegressor avg_check MAPE: 0.119\n",
            "CatBoostRegressor num_checks MAPE: 0.168\n",
            "0.18414696123271662 0.17735176734242714 0.19142903219323398\n",
            "-----------\n",
            "CatBoostRegressor revenue MAPE: 0.213\n",
            "CatBoostRegressor avg_check MAPE: 0.116\n",
            "CatBoostRegressor num_checks MAPE: 0.189\n",
            "0.21331364095642358 0.210081477279369 0.2229927991100368\n",
            "-----------\n",
            "CatBoostRegressor revenue MAPE: 0.168\n",
            "CatBoostRegressor avg_check MAPE: 0.116\n",
            "CatBoostRegressor num_checks MAPE: 0.180\n",
            "0.1682609731389213 0.1752862795731834 0.18592865161563707\n",
            "-----------\n",
            "CatBoostRegressor revenue MAPE: 0.185\n",
            "CatBoostRegressor avg_check MAPE: 0.116\n",
            "CatBoostRegressor num_checks MAPE: 0.210\n",
            "0.18513235917333593 0.18784180789865904 0.2145307199083833\n",
            "-----------\n",
            "CatBoostRegressor revenue MAPE: 0.158\n",
            "CatBoostRegressor avg_check MAPE: 0.131\n",
            "CatBoostRegressor num_checks MAPE: 0.186\n",
            "0.15841291131127552 0.15752955884948416 0.18155209563348798\n",
            "-----------\n",
            "CatBoostRegressor revenue MAPE: 0.176\n",
            "CatBoostRegressor avg_check MAPE: 0.105\n",
            "CatBoostRegressor num_checks MAPE: 0.167\n",
            "0.17635667101764307 0.17526886822922882 0.20613736286470524\n",
            "-----------\n",
            "CatBoostRegressor revenue MAPE: 0.217\n",
            "CatBoostRegressor avg_check MAPE: 0.103\n",
            "CatBoostRegressor num_checks MAPE: 0.194\n",
            "0.21694222561231585 0.2126747915324495 0.2330920369359192\n",
            "-----------\n"
          ]
        }
      ],
      "source": [
        "for i in range(20): \n",
        "  all_data = pd.concat([scaled_data, data_cat], axis=1) \n",
        "  all_data_with_targets = pd.concat([all_data, df_target[[\"Выручка р/мес\",\"Чеки шт/мес\"]]], axis=1) \n",
        "  all_data_with_targets = all_data_with_targets.sample(frac=1).reset_index(drop=True)\n",
        "\n",
        "  revenue = all_data_with_targets['Выручка р/мес'].values\n",
        "  avg_check = all_data_with_targets[\"Выручка р/мес\"] / all_data_with_targets[\"Чеки шт/мес\"]\n",
        "  num_checks = all_data_with_targets[\"Чеки шт/мес\"].values\n",
        "  all_data = all_data_with_targets.drop(columns = [\"Выручка р/мес\",\"Чеки шт/мес\"], axis = 1)\n",
        "\n",
        "\n",
        "  X_train, y_train = all_data[:num_in_train], revenue[:num_in_train]\n",
        "  X_test, y_test = all_data[num_in_train:], revenue[num_in_train:]\n",
        "  revenue_test = revenue[num_in_train:]\n",
        "\n",
        "  model = CatBoostRegressor(cat_features=['Регион', 'Город'],logging_level= 'Silent')\n",
        "  model.fit(X_train, y_train)\n",
        "  y_pred_test = model.predict(X_test)\n",
        "  print('CatBoostRegressor revenue MAPE: %.3f' % metrics.mean_absolute_percentage_error(y_test, y_pred_test))\n",
        "  revenue_pred = y_pred_test.copy()\n",
        "\n",
        "\n",
        "  X_train, y_train = all_data[:num_in_train], avg_check[:num_in_train]\n",
        "  X_test, y_test = all_data[num_in_train:], avg_check[num_in_train:]\n",
        "  avg_check_test = avg_check[num_in_train:]\n",
        "\n",
        "  model = CatBoostRegressor(cat_features=['Регион', 'Город'],logging_level= 'Silent')\n",
        "  model.fit(X_train, y_train)\n",
        "  y_pred_test = model.predict(X_test)\n",
        "  print('CatBoostRegressor avg_check MAPE: %.3f' % metrics.mean_absolute_percentage_error(y_test, y_pred_test))\n",
        "  avg_check_pred = y_pred_test.copy()\n",
        "\n",
        "\n",
        "  X_train, y_train = all_data[:num_in_train], num_checks[:num_in_train]\n",
        "  X_test, y_test = all_data[num_in_train:], num_checks[num_in_train:]\n",
        "  num_checks_test = num_checks[num_in_train:]\n",
        "\n",
        "  model = CatBoostRegressor(cat_features=['Регион', 'Город'],logging_level= 'Silent')\n",
        "  model.fit(X_train, y_train)\n",
        "  y_pred_test = model.predict(X_test)\n",
        "  print('CatBoostRegressor num_checks MAPE: %.3f' % metrics.mean_absolute_percentage_error(y_test, y_pred_test))\n",
        "  num_checks_pred = y_pred_test.copy()\n",
        "\n",
        "\n",
        "  make_classes_for_num_checks(17)\n",
        "\n",
        "  num_checks_class = df_target[\"makr_class\"].values\n",
        "\n",
        "  classes_dict = {}\n",
        "  for mark_class, mean in zip(df_target[\"makr_class\"], df_target[\"mean\"]):\n",
        "    classes_dict[mark_class] = mean\n",
        "\n",
        "\n",
        "  X_train, y_train = all_data[:num_in_train], num_checks_class[:num_in_train]\n",
        "  X_test, y_test = all_data[num_in_train:], num_checks_class[num_in_train:]\n",
        "  num_checks_class_test = num_checks_class[num_in_train:]\n",
        "\n",
        "  classifier = CatBoostClassifier(cat_features=['Регион', 'Город'],logging_level= 'Silent')\n",
        "  classifier.fit(X_train, y_train)\n",
        "  y_pred_test = classifier.predict(X_test)\n",
        "  num_checks_class_pred = y_pred_test\n",
        "\n",
        "  result_class_classification = []\n",
        "  for i in y_pred_test:\n",
        "    result_class_classification.append(classes_dict[i[0]])\n",
        "\n",
        "  solo.append(metrics.mean_absolute_percentage_error(revenue_test, revenue_pred))\n",
        "  mul.append(metrics.mean_absolute_percentage_error(revenue_test, \n",
        "                    (avg_check_pred*num_checks_pred+revenue_pred)/2))\n",
        "  with_classes.append(metrics.mean_absolute_percentage_error(revenue_test, \n",
        "                    (avg_check_pred*((result_class_classification+num_checks_pred)/2)+revenue_pred)/2))\n",
        "  \n",
        "  print(metrics.mean_absolute_percentage_error(revenue_test, revenue_pred),\n",
        "        metrics.mean_absolute_percentage_error(revenue_test, (avg_check_pred*num_checks_pred+revenue_pred)/2),\n",
        "        metrics.mean_absolute_percentage_error(revenue_test, \n",
        "                    (avg_check_pred*((result_class_classification+num_checks_pred)/2)+revenue_pred)/2))\n",
        "  print('-----------')"
      ]
    },
    {
      "cell_type": "code",
      "execution_count": null,
      "metadata": {
        "colab": {
          "background_save": true
        },
        "id": "aZio9HYpWTr6",
        "outputId": "1e2249c3-9a16-4835-e0ca-6bf276491468"
      },
      "outputs": [
        {
          "name": "stdout",
          "output_type": "stream",
          "text": [
            "0.1791836437094589\n",
            "0.1801313355013972\n",
            "0.2031982502473391\n"
          ]
        }
      ],
      "source": [
        "from statistics import mean\n",
        "print(mean(solo))\n",
        "print(mean(mul))\n",
        "print(mean(with_classes))"
      ]
    },
    {
      "cell_type": "code",
      "execution_count": null,
      "metadata": {
        "id": "iRLenZ9OgsGL"
      },
      "outputs": [],
      "source": []
    }
  ],
  "metadata": {
    "colab": {
      "provenance": []
    },
    "kernelspec": {
      "display_name": "Python 3",
      "name": "python3"
    },
    "language_info": {
      "codemirror_mode": {
        "name": "ipython",
        "version": 3
      },
      "file_extension": ".py",
      "mimetype": "text/x-python",
      "name": "python",
      "nbconvert_exporter": "python",
      "pygments_lexer": "ipython3",
      "version": "3.9.0"
    }
  },
  "nbformat": 4,
  "nbformat_minor": 0
}